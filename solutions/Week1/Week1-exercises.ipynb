{
 "cells": [
  {
   "cell_type": "markdown",
   "metadata": {},
   "source": [
    "# Exercise 1\n",
    "Use markdown to sum up with bullet points what you would like to learn"
   ]
  },
  {
   "cell_type": "code",
   "execution_count": null,
   "metadata": {},
   "outputs": [],
   "source": []
  },
  {
   "cell_type": "markdown",
   "metadata": {},
   "source": [
    "# Exercise 2\n",
    "Whenever you are experimenting with a new feature, you should try to make mistakes. For example,\n",
    "in the “Hello, world!” program, what happens if you leave out one of the quotation marks? What if\n",
    "you leave out both? What if you spell print wrong?\n",
    "This kind of experiments helps you to memorize what you have read; it also helps when you are programming,\n",
    "because you need to know what the error messages means. It is better to make mistakes now and on\n",
    "purpose than later and accidentally. So go ahead and try out:\n",
    "\n",
    "1. In a print statement, what happens if you leave out one of the parenthesis, or both?\n",
    "    * parenthesis are ( ) \n",
    "\n",
    "2. If you are trying to print a string, what happens if you leave out one of the quotation marks,\n",
    "or both?\n",
    "    * Quotation marks are ' \"\n",
    "\n",
    "3. You can use a minus sign to make a negative number like -2. What happens if you put a plus\n",
    "sign before a number? What about 2++2?\n",
    "\n",
    "4. What happens if you have two values with no operator between them\n",
    "    * operators are + - / *"
   ]
  },
  {
   "cell_type": "code",
   "execution_count": 1,
   "metadata": {},
   "outputs": [
    {
     "name": "stdout",
     "output_type": "stream",
     "text": [
      "Hello world\n"
     ]
    }
   ],
   "source": [
    "print(\"Hello world\")"
   ]
  },
  {
   "cell_type": "code",
   "execution_count": null,
   "metadata": {},
   "outputs": [],
   "source": []
  },
  {
   "cell_type": "markdown",
   "metadata": {},
   "source": [
    "# Exercise 3\n",
    "Use python as a calculator. Don't forget print statements\n",
    "1. Assign 60 to minutes and calculate with making use of the variable how many seconds are there in 42 minutes 42 seconds?\n",
    "2. How many miles are there in 10 kilometers? Hint: there are 1.61 kilometers in a mile, use a comment to explain what your calculating"
   ]
  },
  {
   "cell_type": "code",
   "execution_count": 2,
   "metadata": {},
   "outputs": [
    {
     "name": "stdout",
     "output_type": "stream",
     "text": [
      "2562\n"
     ]
    }
   ],
   "source": [
    "minutes = 60\n",
    "seconds = 42 * minutes + 42\n",
    "print(seconds)"
   ]
  },
  {
   "cell_type": "code",
   "execution_count": 2,
   "metadata": {},
   "outputs": [
    {
     "name": "stdout",
     "output_type": "stream",
     "text": [
      "6.211180124223602\n"
     ]
    }
   ],
   "source": [
    "km = 1.61\n",
    "# because 1.61 km is equal to 1 mile, we divide 10 by 1.61 in order to convert 10 km to miles\n",
    "mile = 10/km\n",
    "\n",
    "print(mile)"
   ]
  },
  {
   "cell_type": "markdown",
   "metadata": {},
   "source": [
    "# Exercise 4\n",
    "1. Create a list of 5 colours, the datatype of every element in list is a string\n",
    "2. Add a colour to your list, use the + operator\n",
    "3. Change the second colour to \"white with a purple round\"\n",
    "4. Display the third item of the list, remember, python starts at 0\n",
    "5. Display the first and last colours from the list\n",
    "6. Add an exclamation mark to every colour in the list, print all the colours on a new line and make use of a for loop\n"
   ]
  },
  {
   "cell_type": "code",
   "execution_count": 4,
   "metadata": {},
   "outputs": [
    {
     "data": {
      "text/plain": [
       "str"
      ]
     },
     "execution_count": 4,
     "metadata": {},
     "output_type": "execute_result"
    }
   ],
   "source": [
    "colourlist = [\"yellow\", \"purple\", \"pink\", \"red\", \"green\"]\n",
    "\n",
    "#check the type of the elements\n",
    "type(colourlist[0])"
   ]
  },
  {
   "cell_type": "code",
   "execution_count": 5,
   "metadata": {},
   "outputs": [
    {
     "name": "stdout",
     "output_type": "stream",
     "text": [
      "['yellow', 'purple', 'pink', 'red', 'green', 'grey']\n"
     ]
    }
   ],
   "source": [
    "colourlist += [\"grey\"]\n",
    "print(colourlist)"
   ]
  },
  {
   "cell_type": "code",
   "execution_count": 6,
   "metadata": {},
   "outputs": [
    {
     "name": "stdout",
     "output_type": "stream",
     "text": [
      "['yellow', 'white with a purple round', 'pink', 'red', 'green', 'grey']\n"
     ]
    }
   ],
   "source": [
    "colourlist[1] = \"white with a purple round\"\n",
    "print(colourlist)"
   ]
  },
  {
   "cell_type": "code",
   "execution_count": 7,
   "metadata": {},
   "outputs": [
    {
     "name": "stdout",
     "output_type": "stream",
     "text": [
      "pink\n"
     ]
    }
   ],
   "source": [
    "print(colourlist[2])"
   ]
  },
  {
   "cell_type": "code",
   "execution_count": 8,
   "metadata": {},
   "outputs": [
    {
     "name": "stdout",
     "output_type": "stream",
     "text": [
      "The first item is yellow. The last items is grey\n",
      "yellow grey\n"
     ]
    }
   ],
   "source": [
    "print(f\"The first item is {colourlist[0]}. The last items is {colourlist[-1]}\")\n",
    "print(colourlist[0], colourlist[-1])\n"
   ]
  },
  {
   "cell_type": "code",
   "execution_count": 9,
   "metadata": {},
   "outputs": [
    {
     "name": "stdout",
     "output_type": "stream",
     "text": [
      "yellow!\n",
      "white with a purple round!\n",
      "pink!\n",
      "red!\n",
      "green!\n",
      "grey!\n"
     ]
    }
   ],
   "source": [
    "for colour in colourlist:\n",
    "    print(colour + \"!\")"
   ]
  },
  {
   "cell_type": "markdown",
   "metadata": {},
   "source": [
    "# Exercise 5\n",
    "- Ask the user for his or her name\n",
    "- Assign the name to a variable\n",
    "- Greet the user with: Hello {username} !\n",
    "- Hint: do not forget to use print \n",
    "- Hint: use the input() function"
   ]
  },
  {
   "cell_type": "code",
   "execution_count": 11,
   "metadata": {},
   "outputs": [
    {
     "name": "stdout",
     "output_type": "stream",
     "text": [
      "Hello !\n"
     ]
    }
   ],
   "source": [
    "username = input()\n",
    "print(f\"Hello {username}!\")"
   ]
  },
  {
   "cell_type": "markdown",
   "metadata": {},
   "source": [
    "# Bonus\n",
    "Write a Python program to calculate number of days between two dates\n",
    "- Sample dates : (2020, 7, 2), (2020, 7, 11)\n",
    "- Expected output : 9 days\n",
    "- Hint: `from datetime import date`"
   ]
  },
  {
   "cell_type": "code",
   "execution_count": 45,
   "metadata": {},
   "outputs": [],
   "source": [
    "from datetime import date"
   ]
  },
  {
   "cell_type": "code",
   "execution_count": 56,
   "metadata": {},
   "outputs": [
    {
     "name": "stdout",
     "output_type": "stream",
     "text": [
      "9\n"
     ]
    }
   ],
   "source": [
    "date1 = date(2020, 7, 2)\n",
    "date2 = date(2020, 7, 11)\n",
    "\n",
    "difference = date2 - date1\n",
    "print(difference.days)"
   ]
  },
  {
   "cell_type": "code",
   "execution_count": null,
   "metadata": {},
   "outputs": [],
   "source": []
  }
 ],
 "metadata": {
  "kernelspec": {
   "display_name": "Python 3",
   "language": "python",
   "name": "python3"
  },
  "language_info": {
   "codemirror_mode": {
    "name": "ipython",
    "version": 3
   },
   "file_extension": ".py",
   "mimetype": "text/x-python",
   "name": "python",
   "nbconvert_exporter": "python",
   "pygments_lexer": "ipython3",
   "version": "3.7.6"
  }
 },
 "nbformat": 4,
 "nbformat_minor": 2
}

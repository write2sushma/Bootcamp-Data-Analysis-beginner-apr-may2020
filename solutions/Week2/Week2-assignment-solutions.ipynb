{
 "cells": [
  {
   "cell_type": "markdown",
   "metadata": {},
   "source": [
    "# Manipulate .txt files\n",
    "### Preps:\n",
    "1. Create a data folder in the assignments (homework) folder\n",
    "2. Copy the birth_life_2010.txt to the data folder\n",
    "3. What is the absolute path of your birth_life_2010.txt file? \n",
    "    - Hint: `import os`\n",
    "4. Look up what the os library can do for you\n",
    "\n",
    "\n",
    "### Questions\n",
    "1. Read the birth_life_2010.txt file line by line\n",
    "2. Make sure that every country name is in the same list as the Birth rate and the Life expectancy belonging to that country\n",
    "    - example: [Vietnam, 1.822, 74.828243902']\n",
    "    - result: [[Vietnam, 1.822, 74.828243902'], ..., ['Vanuatu, 3.869, 70.819487805]]\n",
    "3. Make sure all the countries names starts from capital letters\n",
    "4. Round all the numbers to 2 decimals\n",
    "5. Sort the list based on the country names from A -> Z\n",
    "6. Remove now the last letter of every country\n"
   ]
  },
  {
   "cell_type": "code",
   "execution_count": 1,
   "metadata": {},
   "outputs": [
    {
     "data": {
      "text/plain": [
       "'C:\\\\Sushma\\\\GitHub\\\\Bootcamp-Data-Analysis-beginner-apr-may2020\\\\solutions\\\\Week2'"
      ]
     },
     "execution_count": 1,
     "metadata": {},
     "output_type": "execute_result"
    }
   ],
   "source": [
    "import os\n",
    "os.getcwd()"
   ]
  },
  {
   "cell_type": "code",
   "execution_count": 3,
   "metadata": {},
   "outputs": [],
   "source": [
    "file = \"data/birth_life_2010.txt\""
   ]
  },
  {
   "cell_type": "code",
   "execution_count": 9,
   "metadata": {},
   "outputs": [],
   "source": [
    "with open (file, \"r\") as f:\n",
    "    text = f.read().split('\\n')\n",
    "    countries = []\n",
    "    for item in text:\n",
    "        countries.append(item.split('\\t'))\n",
    "        \n",
    "# Or, using list comprehension\n",
    "with open (file, \"r\") as f:\n",
    "    text = f.read().split('\\n')\n",
    "    countries2 = [item.split('\\t') for item in text]"
   ]
  },
  {
   "cell_type": "code",
   "execution_count": 7,
   "metadata": {},
   "outputs": [
    {
     "data": {
      "text/plain": [
       "[['Country', 'Birth rate', 'Life expectancy'],\n",
       " ['Vietnam', '1.822', '74.828243902'],\n",
       " ['Vanuatu', '3.869', '70.819487805']]"
      ]
     },
     "execution_count": 7,
     "metadata": {},
     "output_type": "execute_result"
    }
   ],
   "source": [
    "countries[:3]"
   ]
  },
  {
   "cell_type": "code",
   "execution_count": 8,
   "metadata": {},
   "outputs": [
    {
     "data": {
      "text/plain": [
       "[['Country', 'Birth rate', 'Life expectancy'],\n",
       " ['Vietnam', '1.822', '74.828243902'],\n",
       " ['Vanuatu', '3.869', '70.819487805']]"
      ]
     },
     "execution_count": 8,
     "metadata": {},
     "output_type": "execute_result"
    }
   ],
   "source": [
    "countries2[:3]"
   ]
  },
  {
   "cell_type": "markdown",
   "metadata": {},
   "source": [
    "Make sure that all the country names start with capital letter and round all the numbers to 2 decimals"
   ]
  },
  {
   "cell_type": "code",
   "execution_count": 14,
   "metadata": {},
   "outputs": [],
   "source": [
    "all_start_capital = []\n",
    "for item in countries[1:]:\n",
    "    all_start_capital.append([item[0].capitalize(), round(float(item[1]), 2), round(float(item[2]), 2)])\n",
    "\n",
    "# print(all_start_capital[1:])    "
   ]
  },
  {
   "cell_type": "markdown",
   "metadata": {},
   "source": [
    "Sort the list based on the country names from A -> Z"
   ]
  },
  {
   "cell_type": "code",
   "execution_count": null,
   "metadata": {},
   "outputs": [],
   "source": [
    "sorted(all_start_capital[1:])"
   ]
  },
  {
   "cell_type": "markdown",
   "metadata": {},
   "source": [
    "Remove the last letter of every country"
   ]
  },
  {
   "cell_type": "code",
   "execution_count": 15,
   "metadata": {},
   "outputs": [
    {
     "data": {
      "text/plain": [
       "[['Afghanista', 6.29, 48.28],\n",
       " ['Albani', 1.54, 76.9],\n",
       " ['Algeri', 2.26, 72.85],\n",
       " ['Angol', 5.44, 50.65],\n",
       " ['Argentin', 2.21, 75.63],\n",
       " ['Armeni', 1.74, 73.78],\n",
       " ['Arub', 1.7, 74.98],\n",
       " ['Australi', 1.92, 81.7],\n",
       " ['Austri', 1.44, 80.38],\n",
       " ['Azerbaija', 2.3, 70.51],\n",
       " ['Bahrai', 2.54, 75.02],\n",
       " ['Banglades', 2.25, 68.63],\n",
       " ['Barbado', 1.55, 76.57],\n",
       " ['Belaru', 1.44, 70.4],\n",
       " ['Belgiu', 1.84, 79.94],\n",
       " ['Beliz', 2.79, 75.84],\n",
       " ['Beni', 5.29, 55.59],\n",
       " ['Bermud', 1.76, 79.29],\n",
       " ['Bhuta', 2.4, 66.91],\n",
       " ['Bolivi', 3.35, 66.27],\n",
       " ['Bosnia and herzegovin', 1.15, 75.4],\n",
       " ['Botswan', 2.75, 53.11],\n",
       " ['Brazi', 1.83, 73.1],\n",
       " ['Brune', 2.04, 77.93],\n",
       " ['Bulgari', 1.49, 73.51],\n",
       " ['Burkina fas', 5.85, 54.92],\n",
       " ['Burund', 4.34, 49.88],\n",
       " ['Cambodi', 2.58, 62.54],\n",
       " ['Cameroo', 4.49, 51.06],\n",
       " ['Canad', 1.68, 80.8],\n",
       " ['Cape verd', 2.4, 73.77],\n",
       " ['Central african republi', 4.63, 47.62],\n",
       " ['Cha', 5.98, 49.19],\n",
       " ['Channel island', 1.46, 79.83],\n",
       " ['Chil', 1.86, 78.89],\n",
       " ['Chin', 1.6, 73.27],\n",
       " ['Colombi', 2.1, 73.43],\n",
       " ['Comoro', 4.92, 60.63],\n",
       " ['Cong', 4.54, 56.96],\n",
       " ['Costa ric', 1.85, 79.19],\n",
       " ['Croati', 1.46, 76.48],\n",
       " ['Cub', 1.47, 78.96],\n",
       " ['Cypru', 1.48, 79.38],\n",
       " ['Czech republi', 1.49, 77.42],\n",
       " ['Dem. rep. cong', 5.78, 48.07],\n",
       " ['Dem. rep. kore', 2.02, 68.53],\n",
       " ['Denmar', 1.87, 79.1],\n",
       " ['Djibout', 3.75, 57.53],\n",
       " ['Dominican republi', 2.58, 73.2],\n",
       " ['Ecuado', 2.48, 75.46],\n",
       " ['Egyp', 2.73, 72.98],\n",
       " ['El salvado', 2.25, 71.73],\n",
       " ['Equatorial guine', 5.18, 50.84],\n",
       " ['Eritre', 4.45, 60.99],\n",
       " ['Estoni', 1.63, 75.43],\n",
       " ['Ethiopi', 4.19, 58.72],\n",
       " ['Fij', 2.67, 69.23],\n",
       " ['Finlan', 1.87, 79.87],\n",
       " ['Franc', 2.0, 81.37],\n",
       " ['French polynesi', 2.09, 75.08],\n",
       " ['Gabo', 3.25, 62.29],\n",
       " ['Georgi', 1.55, 73.33],\n",
       " ['German', 1.39, 79.99],\n",
       " ['Ghan', 4.17, 63.84],\n",
       " ['Greec', 1.44, 80.39],\n",
       " ['Grenad', 2.23, 75.66],\n",
       " ['Gua', 2.47, 75.99],\n",
       " ['Guatemal', 3.98, 70.83],\n",
       " ['Guine', 5.25, 53.64],\n",
       " ['Guinea-bissa', 5.06, 47.7],\n",
       " ['Guyan', 2.26, 69.55],\n",
       " ['Hait', 3.34, 61.76],\n",
       " ['Hondura', 3.14, 72.83],\n",
       " ['Hong kong sar, chin', 1.11, 82.88],\n",
       " ['Hungar', 1.25, 74.21],\n",
       " ['Icelan', 2.2, 81.45],\n",
       " ['Indi', 2.62, 65.13],\n",
       " ['Indonesi', 2.12, 68.89],\n",
       " ['Ira', 1.67, 72.75],\n",
       " ['Ira', 4.7, 68.49],\n",
       " ['Irelan', 2.07, 80.29],\n",
       " ['Israe', 3.03, 81.5],\n",
       " ['Ital', 1.4, 81.74],\n",
       " ['Jamaic', 2.33, 72.85],\n",
       " ['Japa', 1.39, 82.93],\n",
       " ['Jorda', 3.8, 73.29],\n",
       " ['Kazakhsta', 2.59, 68.3],\n",
       " ['Keny', 4.72, 56.5],\n",
       " ['Kore', 1.22, 80.76],\n",
       " ['Kosov', 2.29, 69.88],\n",
       " ['Kuwai', 2.29, 74.6],\n",
       " ['Kyrgyz republi', 2.9, 69.37],\n",
       " ['Lao pd', 2.75, 67.06],\n",
       " ['Latvi', 1.17, 73.48],\n",
       " ['Lebano', 1.8, 72.41],\n",
       " ['Lesoth', 3.2, 47.37],\n",
       " ['Liberi', 5.24, 56.15],\n",
       " ['Liby', 2.56, 74.75],\n",
       " ['Lithuani', 1.55, 73.27],\n",
       " ['Luxembour', 1.63, 80.09],\n",
       " ['Macao sar, chin', 1.09, 80.78],\n",
       " ['Macedoni', 1.42, 74.62],\n",
       " ['Madagasca', 4.65, 66.47],\n",
       " ['Mal', 6.29, 50.95],\n",
       " ['Malaw', 5.99, 53.46],\n",
       " ['Malaysi', 2.63, 74.02],\n",
       " ['Maldive', 1.75, 76.55],\n",
       " ['Malt', 1.38, 80.95],\n",
       " ['Mauritani', 4.53, 58.22],\n",
       " ['Mauritiu', 1.47, 72.97],\n",
       " ['Mexic', 2.32, 76.68],\n",
       " ['Micronesi', 3.45, 68.76],\n",
       " ['Moldov', 1.48, 68.9],\n",
       " ['Mongoli', 2.5, 68.19],\n",
       " ['Montenegr', 1.66, 74.31],\n",
       " ['Morocc', 2.28, 71.86],\n",
       " ['Mozambiqu', 4.91, 49.7],\n",
       " ['Myanma', 2.0, 64.66],\n",
       " ['Namibi', 3.22, 62.07],\n",
       " ['Nepa', 2.73, 68.39],\n",
       " ['Netherland', 1.79, 80.7],\n",
       " ['New caledoni', 2.14, 76.3],\n",
       " ['New zealan', 2.16, 80.7],\n",
       " ['Nicaragu', 2.62, 73.73],\n",
       " ['Nige', 7.06, 54.27],\n",
       " ['Nigeri', 5.53, 51.41],\n",
       " ['Norwa', 1.95, 81.0],\n",
       " ['Oma', 2.31, 73.12],\n",
       " ['Pakista', 3.42, 65.2],\n",
       " ['Panam', 2.48, 75.97],\n",
       " ['Papua new guine', 3.95, 62.44],\n",
       " ['Paragua', 2.95, 72.28],\n",
       " ['Per', 2.5, 73.76],\n",
       " ['Philippine', 3.14, 68.48],\n",
       " ['Polan', 1.38, 76.25],\n",
       " ['Portuga', 1.32, 79.03],\n",
       " ['Puerto ric', 1.8, 78.91],\n",
       " ['Qata', 2.27, 78.1],\n",
       " ['Romani', 1.38, 73.46],\n",
       " ['Russi', 1.54, 68.8],\n",
       " ['Rwand', 5.37, 55.06],\n",
       " ['Samo', 3.86, 72.31],\n",
       " ['Saudi arabi', 2.81, 73.85],\n",
       " ['Senega', 4.82, 58.95],\n",
       " ['Serbi', 1.4, 73.94],\n",
       " ['Seychelle', 2.5, 73.03],\n",
       " ['Sierra leon', 4.98, 47.4],\n",
       " ['Singapor', 1.15, 81.64],\n",
       " ['Slovak republi', 1.4, 75.11],\n",
       " ['Sloveni', 1.57, 79.42],\n",
       " ['Solomon island', 4.23, 67.47],\n",
       " ['Somali', 6.34, 50.9],\n",
       " ['South afric', 2.46, 52.08],\n",
       " ['Spai', 1.39, 81.63],\n",
       " ['Sri lank', 2.31, 74.72],\n",
       " ['St. luci', 1.98, 74.44],\n",
       " ['St. vincent and the grenadine', 2.06, 72.11],\n",
       " ['Suda', 4.4, 61.11],\n",
       " ['Surinam', 2.34, 70.34],\n",
       " ['Swazilan', 3.36, 48.34],\n",
       " ['Swede', 1.98, 81.45],\n",
       " ['Switzerlan', 1.5, 82.25],\n",
       " ['Syrian arab republi', 2.93, 75.7],\n",
       " ['Tajikista', 3.3, 67.26],\n",
       " ['Tanzani', 5.54, 57.39],\n",
       " ['Thailan', 1.58, 73.93],\n",
       " ['The bahama', 1.9, 75.22],\n",
       " ['The gambi', 4.9, 58.16],\n",
       " ['Timor-lest', 5.58, 62.0],\n",
       " ['Tog', 4.07, 56.59],\n",
       " ['Tong', 3.91, 72.15],\n",
       " ['Trinidad and tobag', 1.64, 69.75],\n",
       " ['Tunisi', 2.04, 74.6],\n",
       " ['Turke', 2.09, 73.7],\n",
       " ['Turkmenista', 2.4, 64.86],\n",
       " ['Ugand', 6.15, 53.61],\n",
       " ['Ukrain', 1.45, 70.28],\n",
       " ['United arab emirate', 1.75, 76.57],\n",
       " ['United kingdo', 1.94, 80.4],\n",
       " ['United state', 2.1, 78.24],\n",
       " ['Urugua', 1.99, 76.24],\n",
       " ['Uzbekista', 2.5, 68.0],\n",
       " ['Vanuat', 3.87, 70.82],\n",
       " ['Venezuel', 2.49, 74.13],\n",
       " ['Vietna', 1.82, 74.83],\n",
       " ['Virgin island', 1.8, 79.19],\n",
       " ['West bank and gaz', 4.45, 72.64],\n",
       " ['Yeme', 5.2, 65.03],\n",
       " ['Zambi', 6.26, 48.46],\n",
       " ['Zimbabw', 3.29, 49.86]]"
      ]
     },
     "execution_count": 15,
     "metadata": {},
     "output_type": "execute_result"
    }
   ],
   "source": [
    "# Use start and end index pattern for Country. This will exclude last character of country' name \n",
    "# e.g., [item[0][:-1]]\n",
    "\n",
    "all_start_capital = []\n",
    "for item in countries[1:]:\n",
    "    all_start_capital.append([item[0][:-1].capitalize(), round(float(item[1]), 2), round(float(item[2]), 2)])\n",
    "    \n",
    "sorted(all_start_capital)"
   ]
  },
  {
   "cell_type": "markdown",
   "metadata": {},
   "source": [
    "### Hard Questions\n",
    "1. Create a function that takes in a list of words and returns step 3 up to step 6 as a list\n",
    " - do not forget the comments and to explain what your function is used for and what it outputs\n",
    "2. How many countries does the file contain?\n",
    "3. Do all countries have birth and life expectancy present? \n",
    "4. How many countries start with the letter M?\n",
    "5. How many countries have a 'z' in their name"
   ]
  },
  {
   "cell_type": "code",
   "execution_count": 16,
   "metadata": {},
   "outputs": [
    {
     "data": {
      "text/plain": [
       "[['Afghanista', 6.29, 48.28],\n",
       " ['Albani', 1.54, 76.9],\n",
       " ['Algeri', 2.26, 72.85],\n",
       " ['Angol', 5.44, 50.65],\n",
       " ['Argentin', 2.21, 75.63],\n",
       " ['Armeni', 1.74, 73.78],\n",
       " ['Arub', 1.7, 74.98],\n",
       " ['Australi', 1.92, 81.7],\n",
       " ['Austri', 1.44, 80.38],\n",
       " ['Azerbaija', 2.3, 70.51],\n",
       " ['Bahrai', 2.54, 75.02],\n",
       " ['Banglades', 2.25, 68.63],\n",
       " ['Barbado', 1.55, 76.57],\n",
       " ['Belaru', 1.44, 70.4],\n",
       " ['Belgiu', 1.84, 79.94],\n",
       " ['Beliz', 2.79, 75.84],\n",
       " ['Beni', 5.29, 55.59],\n",
       " ['Bermud', 1.76, 79.29],\n",
       " ['Bhuta', 2.4, 66.91],\n",
       " ['Bolivi', 3.35, 66.27],\n",
       " ['Bosnia and herzegovin', 1.15, 75.4],\n",
       " ['Botswan', 2.75, 53.11],\n",
       " ['Brazi', 1.83, 73.1],\n",
       " ['Brune', 2.04, 77.93],\n",
       " ['Bulgari', 1.49, 73.51],\n",
       " ['Burkina fas', 5.85, 54.92],\n",
       " ['Burund', 4.34, 49.88],\n",
       " ['Cambodi', 2.58, 62.54],\n",
       " ['Cameroo', 4.49, 51.06],\n",
       " ['Canad', 1.68, 80.8],\n",
       " ['Cape verd', 2.4, 73.77],\n",
       " ['Central african republi', 4.63, 47.62],\n",
       " ['Cha', 5.98, 49.19],\n",
       " ['Channel island', 1.46, 79.83],\n",
       " ['Chil', 1.86, 78.89],\n",
       " ['Chin', 1.6, 73.27],\n",
       " ['Colombi', 2.1, 73.43],\n",
       " ['Comoro', 4.92, 60.63],\n",
       " ['Cong', 4.54, 56.96],\n",
       " ['Costa ric', 1.85, 79.19],\n",
       " ['Croati', 1.46, 76.48],\n",
       " ['Cub', 1.47, 78.96],\n",
       " ['Cypru', 1.48, 79.38],\n",
       " ['Czech republi', 1.49, 77.42],\n",
       " ['Dem. rep. cong', 5.78, 48.07],\n",
       " ['Dem. rep. kore', 2.02, 68.53],\n",
       " ['Denmar', 1.87, 79.1],\n",
       " ['Djibout', 3.75, 57.53],\n",
       " ['Dominican republi', 2.58, 73.2],\n",
       " ['Ecuado', 2.48, 75.46],\n",
       " ['Egyp', 2.73, 72.98],\n",
       " ['El salvado', 2.25, 71.73],\n",
       " ['Equatorial guine', 5.18, 50.84],\n",
       " ['Eritre', 4.45, 60.99],\n",
       " ['Estoni', 1.63, 75.43],\n",
       " ['Ethiopi', 4.19, 58.72],\n",
       " ['Fij', 2.67, 69.23],\n",
       " ['Finlan', 1.87, 79.87],\n",
       " ['Franc', 2.0, 81.37],\n",
       " ['French polynesi', 2.09, 75.08],\n",
       " ['Gabo', 3.25, 62.29],\n",
       " ['Georgi', 1.55, 73.33],\n",
       " ['German', 1.39, 79.99],\n",
       " ['Ghan', 4.17, 63.84],\n",
       " ['Greec', 1.44, 80.39],\n",
       " ['Grenad', 2.23, 75.66],\n",
       " ['Gua', 2.47, 75.99],\n",
       " ['Guatemal', 3.98, 70.83],\n",
       " ['Guine', 5.25, 53.64],\n",
       " ['Guinea-bissa', 5.06, 47.7],\n",
       " ['Guyan', 2.26, 69.55],\n",
       " ['Hait', 3.34, 61.76],\n",
       " ['Hondura', 3.14, 72.83],\n",
       " ['Hong kong sar, chin', 1.11, 82.88],\n",
       " ['Hungar', 1.25, 74.21],\n",
       " ['Icelan', 2.2, 81.45],\n",
       " ['Indi', 2.62, 65.13],\n",
       " ['Indonesi', 2.12, 68.89],\n",
       " ['Ira', 1.67, 72.75],\n",
       " ['Ira', 4.7, 68.49],\n",
       " ['Irelan', 2.07, 80.29],\n",
       " ['Israe', 3.03, 81.5],\n",
       " ['Ital', 1.4, 81.74],\n",
       " ['Jamaic', 2.33, 72.85],\n",
       " ['Japa', 1.39, 82.93],\n",
       " ['Jorda', 3.8, 73.29],\n",
       " ['Kazakhsta', 2.59, 68.3],\n",
       " ['Keny', 4.72, 56.5],\n",
       " ['Kore', 1.22, 80.76],\n",
       " ['Kosov', 2.29, 69.88],\n",
       " ['Kuwai', 2.29, 74.6],\n",
       " ['Kyrgyz republi', 2.9, 69.37],\n",
       " ['Lao pd', 2.75, 67.06],\n",
       " ['Latvi', 1.17, 73.48],\n",
       " ['Lebano', 1.8, 72.41],\n",
       " ['Lesoth', 3.2, 47.37],\n",
       " ['Liberi', 5.24, 56.15],\n",
       " ['Liby', 2.56, 74.75],\n",
       " ['Lithuani', 1.55, 73.27],\n",
       " ['Luxembour', 1.63, 80.09],\n",
       " ['Macao sar, chin', 1.09, 80.78],\n",
       " ['Macedoni', 1.42, 74.62],\n",
       " ['Madagasca', 4.65, 66.47],\n",
       " ['Mal', 6.29, 50.95],\n",
       " ['Malaw', 5.99, 53.46],\n",
       " ['Malaysi', 2.63, 74.02],\n",
       " ['Maldive', 1.75, 76.55],\n",
       " ['Malt', 1.38, 80.95],\n",
       " ['Mauritani', 4.53, 58.22],\n",
       " ['Mauritiu', 1.47, 72.97],\n",
       " ['Mexic', 2.32, 76.68],\n",
       " ['Micronesi', 3.45, 68.76],\n",
       " ['Moldov', 1.48, 68.9],\n",
       " ['Mongoli', 2.5, 68.19],\n",
       " ['Montenegr', 1.66, 74.31],\n",
       " ['Morocc', 2.28, 71.86],\n",
       " ['Mozambiqu', 4.91, 49.7],\n",
       " ['Myanma', 2.0, 64.66],\n",
       " ['Namibi', 3.22, 62.07],\n",
       " ['Nepa', 2.73, 68.39],\n",
       " ['Netherland', 1.79, 80.7],\n",
       " ['New caledoni', 2.14, 76.3],\n",
       " ['New zealan', 2.16, 80.7],\n",
       " ['Nicaragu', 2.62, 73.73],\n",
       " ['Nige', 7.06, 54.27],\n",
       " ['Nigeri', 5.53, 51.41],\n",
       " ['Norwa', 1.95, 81.0],\n",
       " ['Oma', 2.31, 73.12],\n",
       " ['Pakista', 3.42, 65.2],\n",
       " ['Panam', 2.48, 75.97],\n",
       " ['Papua new guine', 3.95, 62.44],\n",
       " ['Paragua', 2.95, 72.28],\n",
       " ['Per', 2.5, 73.76],\n",
       " ['Philippine', 3.14, 68.48],\n",
       " ['Polan', 1.38, 76.25],\n",
       " ['Portuga', 1.32, 79.03],\n",
       " ['Puerto ric', 1.8, 78.91],\n",
       " ['Qata', 2.27, 78.1],\n",
       " ['Romani', 1.38, 73.46],\n",
       " ['Russi', 1.54, 68.8],\n",
       " ['Rwand', 5.37, 55.06],\n",
       " ['Samo', 3.86, 72.31],\n",
       " ['Saudi arabi', 2.81, 73.85],\n",
       " ['Senega', 4.82, 58.95],\n",
       " ['Serbi', 1.4, 73.94],\n",
       " ['Seychelle', 2.5, 73.03],\n",
       " ['Sierra leon', 4.98, 47.4],\n",
       " ['Singapor', 1.15, 81.64],\n",
       " ['Slovak republi', 1.4, 75.11],\n",
       " ['Sloveni', 1.57, 79.42],\n",
       " ['Solomon island', 4.23, 67.47],\n",
       " ['Somali', 6.34, 50.9],\n",
       " ['South afric', 2.46, 52.08],\n",
       " ['Spai', 1.39, 81.63],\n",
       " ['Sri lank', 2.31, 74.72],\n",
       " ['St. luci', 1.98, 74.44],\n",
       " ['St. vincent and the grenadine', 2.06, 72.11],\n",
       " ['Suda', 4.4, 61.11],\n",
       " ['Surinam', 2.34, 70.34],\n",
       " ['Swazilan', 3.36, 48.34],\n",
       " ['Swede', 1.98, 81.45],\n",
       " ['Switzerlan', 1.5, 82.25],\n",
       " ['Syrian arab republi', 2.93, 75.7],\n",
       " ['Tajikista', 3.3, 67.26],\n",
       " ['Tanzani', 5.54, 57.39],\n",
       " ['Thailan', 1.58, 73.93],\n",
       " ['The bahama', 1.9, 75.22],\n",
       " ['The gambi', 4.9, 58.16],\n",
       " ['Timor-lest', 5.58, 62.0],\n",
       " ['Tog', 4.07, 56.59],\n",
       " ['Tong', 3.91, 72.15],\n",
       " ['Trinidad and tobag', 1.64, 69.75],\n",
       " ['Tunisi', 2.04, 74.6],\n",
       " ['Turke', 2.09, 73.7],\n",
       " ['Turkmenista', 2.4, 64.86],\n",
       " ['Ugand', 6.15, 53.61],\n",
       " ['Ukrain', 1.45, 70.28],\n",
       " ['United arab emirate', 1.75, 76.57],\n",
       " ['United kingdo', 1.94, 80.4],\n",
       " ['United state', 2.1, 78.24],\n",
       " ['Urugua', 1.99, 76.24],\n",
       " ['Uzbekista', 2.5, 68.0],\n",
       " ['Vanuat', 3.87, 70.82],\n",
       " ['Venezuel', 2.49, 74.13],\n",
       " ['Vietna', 1.82, 74.83],\n",
       " ['Virgin island', 1.8, 79.19],\n",
       " ['West bank and gaz', 4.45, 72.64],\n",
       " ['Yeme', 5.2, 65.03],\n",
       " ['Zambi', 6.26, 48.46],\n",
       " ['Zimbabw', 3.29, 49.86]]"
      ]
     },
     "execution_count": 16,
     "metadata": {},
     "output_type": "execute_result"
    }
   ],
   "source": [
    "def transform_this(text):\n",
    "    \"\"\"\n",
    "    Makes transformations to a nested list so the data types are more consistent and use upper method.\n",
    "    Input: text: nested list: countries, birthrates and Life expectancy\n",
    "    Retuns: text: nested list: countries, birthrates and Life expectancy.\n",
    "    \"\"\"\n",
    "    \n",
    "    countries2 = [item.split('\\t') for item in text]\n",
    "    # Get the elements of a nested list and transform them, put them in a new list which looks like [\"string\", float, float]\n",
    "    all_start_capital = []\n",
    "    for item in countries2[1:]:\n",
    "        all_start_capital.append([item[0][:-1].capitalize(), round(float(item[1]), 2), round(float(item[2]), 2)])\n",
    "    return sorted(all_start_capital)\n",
    "\n",
    "transform_this(text)"
   ]
  },
  {
   "cell_type": "code",
   "execution_count": 17,
   "metadata": {},
   "outputs": [],
   "source": [
    "#Do all countries have birth and life expectancy present?\n",
    "for sublist in countries:\n",
    "    if len(sublist) < 3:\n",
    "        print('not all countries have all elements present')\n",
    "    for element in sublist:\n",
    "        if element == '' or element == None:\n",
    "            print('not all countries have all elements present')"
   ]
  },
  {
   "cell_type": "code",
   "execution_count": 16,
   "metadata": {},
   "outputs": [
    {
     "data": {
      "text/plain": [
       "190"
      ]
     },
     "execution_count": 16,
     "metadata": {},
     "output_type": "execute_result"
    }
   ],
   "source": [
    "#country count\n",
    "len(countries)-1"
   ]
  },
  {
   "cell_type": "code",
   "execution_count": 17,
   "metadata": {},
   "outputs": [
    {
     "name": "stdout",
     "output_type": "stream",
     "text": [
      "18\n",
      "18\n"
     ]
    }
   ],
   "source": [
    "count = 0\n",
    "for sublist in countries[1:]:\n",
    "    if sublist[0][0].lower() == 'm':\n",
    "        count+=1\n",
    "print(count)\n",
    "\n",
    "#or with list comprehension \n",
    "print(len([m for m in countries[1:] if m[0][0].lower()=='m']))"
   ]
  },
  {
   "cell_type": "code",
   "execution_count": 18,
   "metadata": {},
   "outputs": [
    {
     "name": "stdout",
     "output_type": "stream",
     "text": [
      "14\n",
      "14\n"
     ]
    }
   ],
   "source": [
    "count = 0\n",
    "for sublist in countries[1:]:\n",
    "    if 'z' in sublist[0]:\n",
    "        count+=1\n",
    "print(count)\n",
    "\n",
    "#or with list comprehension\n",
    "print(len([m for m in countries if 'z' in m[0]]))"
   ]
  },
  {
   "cell_type": "code",
   "execution_count": null,
   "metadata": {},
   "outputs": [],
   "source": []
  }
 ],
 "metadata": {
  "kernelspec": {
   "display_name": "Python 3",
   "language": "python",
   "name": "python3"
  },
  "language_info": {
   "codemirror_mode": {
    "name": "ipython",
    "version": 3
   },
   "file_extension": ".py",
   "mimetype": "text/x-python",
   "name": "python",
   "nbconvert_exporter": "python",
   "pygments_lexer": "ipython3",
   "version": "3.7.6"
  }
 },
 "nbformat": 4,
 "nbformat_minor": 4
}
